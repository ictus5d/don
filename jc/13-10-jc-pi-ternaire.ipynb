{
 "cells": [
  {
   "cell_type": "code",
   "execution_count": 1,
   "metadata": {},
   "outputs": [],
   "source": [
    "%display latex\n",
    "from sage.misc.table import table\n",
    "class BalancedTernary:\n",
    "    # Represented as a list of 0, 1 or -1s, with least significant digit first.\n",
    " \n",
    "    str2dig = {'+': 1, '-': -1, '0': 0} # immutable\n",
    "    dig2str = {1: '+', -1: '-', 0: '0'} # immutable\n",
    "    table = ((0, -1), (1, -1), (-1, 0), (0, 0), (1, 0), (-1, 1), (0, 1)) # immutable\n",
    " \n",
    "    def __init__(self, inp):\n",
    "        if isinstance(inp, str):\n",
    "            self.digits = [BalancedTernary.str2dig[c] for c in reversed(inp)]\n",
    "        elif isinstance(inp, int):\n",
    "            self.digits = self._int2ternary(inp)\n",
    "        elif isinstance(inp, BalancedTernary):\n",
    "            self.digits = list(inp.digits)\n",
    "        elif isinstance(inp, list):\n",
    "            if all(d in (0, 1, -1) for d in inp):\n",
    "                self.digits = list(inp)\n",
    "            else:\n",
    "                raise ValueError(\"BalancedTernary: Wrong input digits.\")\n",
    "        else:\n",
    "            raise TypeError(\"BalancedTernary: Wrong constructor input.\")\n",
    " \n",
    "    @staticmethod\n",
    "    def _int2ternary(n):\n",
    "        if n == 0: return []\n",
    "        if (n % 3) == 0: return [0] + BalancedTernary._int2ternary(n // 3)\n",
    "        if (n % 3) == 1: return [1] + BalancedTernary._int2ternary(n // 3)\n",
    "        if (n % 3) == 2: return [-1] + BalancedTernary._int2ternary((n + 1) // 3)\n",
    " \n",
    "    def to_int(self):\n",
    "        return reduce(lambda y,x: x + 3 * y, reversed(self.digits), 0)\n",
    " \n",
    "    def __repr__(self):\n",
    "        if not self.digits: return \"0\"\n",
    "        return \"\".join(BalancedTernary.dig2str[d] for d in reversed(self.digits))\n",
    " \n",
    "    @staticmethod\n",
    "    def _neg(digs):\n",
    "        return [-d for d in digs]\n",
    " \n",
    "    def __neg__(self):\n",
    "        return BalancedTernary(BalancedTernary._neg(self.digits))\n",
    " \n",
    "    @staticmethod\n",
    "    def _add(a, b, c=0):\n",
    "        if not (a and b):\n",
    "            if c == 0:\n",
    "                return a or b\n",
    "            else:\n",
    "                return BalancedTernary._add([c], a or b)\n",
    "        else:\n",
    "            (d, c) = BalancedTernary.table[3 + (a[0] if a else 0) + (b[0] if b else 0) + c]\n",
    "            res = BalancedTernary._add(a[1:], b[1:], c)\n",
    "            # trim leading zeros\n",
    "            if res or d != 0:\n",
    "                return [d] + res\n",
    "            else:\n",
    "                return res\n",
    " \n",
    "    def __add__(self, b):\n",
    "        return BalancedTernary(BalancedTernary._add(self.digits, b.digits))\n",
    " \n",
    "    def __sub__(self, b):\n",
    "        return self + (-b)\n",
    " \n",
    "    @staticmethod\n",
    "    def _mul(a, b):\n",
    "        if not (a and b):\n",
    "            return []\n",
    "        else:\n",
    "            if   a[0] == -1: x = BalancedTernary._neg(b)\n",
    "            elif a[0] ==  0: x = []\n",
    "            elif a[0] ==  1: x = b\n",
    "            else: assert False\n",
    "            y = [0] + BalancedTernary._mul(a[1:], b)\n",
    "            return BalancedTernary._add(x, y)\n",
    " \n",
    "    def __mul__(self, b):\n",
    "        return BalancedTernary(BalancedTernary._mul(self.digits, b.digits))\n",
    "def main():\n",
    "    a = BalancedTernary(\"+-0++0+\")\n",
    "   # print \"a:\", a.to_int(), a\n",
    " \n",
    "    b = BalancedTernary(int(-436))\n",
    "    #print \"b:\", b.to_int(), b\n",
    " \n",
    "    c = BalancedTernary(\"+-++-\")\n",
    "    #print \"c:\", c.to_int(), c\n",
    " \n",
    "    r = a * (b - c)\n",
    "    #print \"a * (b - c):\", r.to_int(), r\n",
    "main()\n",
    "def magic(n):\n",
    "    for row in range(1, n + 1):\n",
    "        print(' '.join('%*i' % (len(str(n**2)), cell) for cell in\n",
    "                       (n * ((row + col - 1 + n // 2) % n) +\n",
    "                       ((row + 2 * col - 2) % n) + 1\n",
    "                       for col in range(1, n + 1))))"
   ]
  },
  {
   "cell_type": "code",
   "execution_count": 2,
   "metadata": {},
   "outputs": [
    {
     "data": {
      "text/html": [
       "<html><script type=\"math/tex; mode=display\">\\newcommand{\\Bold}[1]{\\mathbf{#1}}3.14159265358979323846264338327950</script></html>"
      ],
      "text/plain": [
       "3.14159265358979323846264338327950"
      ]
     },
     "execution_count": 2,
     "metadata": {},
     "output_type": "execute_result"
    }
   ],
   "source": [
    "n(pi,digits=33)\n"
   ]
  },
  {
   "cell_type": "code",
   "execution_count": 3,
   "metadata": {
    "scrolled": true
   },
   "outputs": [
    {
     "name": "stdout",
     "output_type": "stream",
     "text": [
      "a: 1 +\n",
      "b: 2 +-\n",
      "c: 3 +0\n",
      "d: 4 ++\n",
      "e: 5 +--\n",
      "f: 6 +-0\n",
      "g: 7 +-+\n",
      "h: 8 +0-\n",
      "i: 9 +00\n",
      "j: 10 +0+\n",
      "k: 11 ++-\n"
     ]
    }
   ],
   "source": [
    "a = BalancedTernary(int(1))\n",
    "print \"a:\", a.to_int(), a\n",
    "b = BalancedTernary(int(2))\n",
    "print \"b:\", b.to_int(), b\n",
    "c = BalancedTernary(int(3))\n",
    "print \"c:\", c.to_int(), c\n",
    "d = BalancedTernary(int(4))\n",
    "print \"d:\", d.to_int(), d\n",
    "e = BalancedTernary(int(5))\n",
    "print \"e:\", e.to_int(), e\n",
    "f = BalancedTernary(int(6))\n",
    "print \"f:\", f.to_int(), f\n",
    "g = BalancedTernary(int(7))\n",
    "print \"g:\", g.to_int(), g\n",
    "h = BalancedTernary(int(8))\n",
    "print \"h:\", h.to_int(), h\n",
    "i = BalancedTernary(int(9))\n",
    "print \"i:\", i.to_int(), i\n",
    "j = BalancedTernary(int(10))\n",
    "print \"j:\", j.to_int(), j\n",
    "k = BalancedTernary(\"++-\")\n",
    "print \"k:\", k.to_int(), k"
   ]
  },
  {
   "cell_type": "code",
   "execution_count": 4,
   "metadata": {},
   "outputs": [
    {
     "name": "stdout",
     "output_type": "stream",
     "text": [
      "([+0-], [00+], [+-0])\n",
      "([0+0], [+--], [+-+])\n",
      "([0++], [+00], [0+-])\n"
     ]
    }
   ],
   "source": [
    "print([BalancedTernary(\"+0-\")],[BalancedTernary(\"00+\")],[BalancedTernary(\"+-0\")])\n",
    "print([BalancedTernary(\"0+0\")],[BalancedTernary(\"+--\")],[BalancedTernary(\"+-+\")])\n",
    "print([BalancedTernary(\"0++\")],[BalancedTernary(\"+00\")],[BalancedTernary(\"0+-\")])"
   ]
  },
  {
   "cell_type": "code",
   "execution_count": 5,
   "metadata": {},
   "outputs": [
    {
     "name": "stdout",
     "output_type": "stream",
     "text": [
      "k: 16 +--+\n"
     ]
    }
   ],
   "source": [
    "k= BalancedTernary(int(16))\n",
    "print \"k:\", k.to_int(), k"
   ]
  },
  {
   "cell_type": "code",
   "execution_count": 6,
   "metadata": {},
   "outputs": [
    {
     "data": {
      "text/html": [
       "<html><script type=\"math/tex; mode=display\">\\newcommand{\\Bold}[1]{\\mathbf{#1}}\\left(i, -1, -i, 1\\right)</script></html>"
      ],
      "text/plain": [
       "(I, -1, -I, 1)"
      ]
     },
     "execution_count": 6,
     "metadata": {},
     "output_type": "execute_result"
    }
   ],
   "source": [
    "reset()\n",
    "i,i^2,i^3,i^4"
   ]
  },
  {
   "cell_type": "code",
   "execution_count": 7,
   "metadata": {},
   "outputs": [
    {
     "data": {
      "text/html": [
       "<html><script type=\"math/tex; mode=display\">\\newcommand{\\Bold}[1]{\\mathbf{#1}}\\left(\\begin{array}{rr}\n",
       "i & -1 \\\\\n",
       "-i & 1\n",
       "\\end{array}\\right)</script></html>"
      ],
      "text/plain": [
       "[ I -1]\n",
       "[-I  1]"
      ]
     },
     "execution_count": 7,
     "metadata": {},
     "output_type": "execute_result"
    }
   ],
   "source": [
    "A=matrix([[i,i^2],[i^3,i^4]]);A"
   ]
  },
  {
   "cell_type": "code",
   "execution_count": 10,
   "metadata": {},
   "outputs": [
    {
     "data": {
      "text/html": [
       "<html><script type=\"math/tex; mode=display\">\\newcommand{\\Bold}[1]{\\mathbf{#1}}\\left(\\begin{array}{rr}\n",
       "i & 1 \\\\\n",
       "-i & -1\n",
       "\\end{array}\\right)</script></html>"
      ],
      "text/plain": [
       "[ I  1]\n",
       "[-I -1]"
      ]
     },
     "execution_count": 10,
     "metadata": {},
     "output_type": "execute_result"
    }
   ],
   "source": [
    "B=matrix([[i,i^4],[i^3,i^2]]);B"
   ]
  },
  {
   "cell_type": "code",
   "execution_count": 11,
   "metadata": {},
   "outputs": [
    {
     "data": {
      "text/html": [
       "<html><script type=\"math/tex; mode=display\">\\newcommand{\\Bold}[1]{\\mathbf{#1}}\\left(\\begin{array}{rr}\n",
       "i - 1 & i + 1 \\\\\n",
       "-i + 1 & -i - 1\n",
       "\\end{array}\\right)</script></html>"
      ],
      "text/plain": [
       "[ I - 1  I + 1]\n",
       "[-I + 1 -I - 1]"
      ]
     },
     "execution_count": 11,
     "metadata": {},
     "output_type": "execute_result"
    }
   ],
   "source": [
    "A*B"
   ]
  },
  {
   "cell_type": "code",
   "execution_count": null,
   "metadata": {},
   "outputs": [],
   "source": []
  }
 ],
 "metadata": {
  "kernelspec": {
   "display_name": "SageMath 8.5",
   "language": "",
   "name": "sagemath"
  },
  "language_info": {
   "codemirror_mode": {
    "name": "ipython",
    "version": 2
   },
   "file_extension": ".py",
   "mimetype": "text/x-python",
   "name": "python",
   "nbconvert_exporter": "python",
   "pygments_lexer": "ipython2",
   "version": "2.7.15"
  }
 },
 "nbformat": 4,
 "nbformat_minor": 2
}
