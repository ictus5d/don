{
 "cells": [
  {
   "cell_type": "code",
   "execution_count": 1,
   "metadata": {},
   "outputs": [
    {
     "ename": "ImportError",
     "evalue": "No module named vpython",
     "output_type": "error",
     "traceback": [
      "\u001b[0;31m---------------------------------------------------------------------------\u001b[0m",
      "\u001b[0;31mImportError\u001b[0m                               Traceback (most recent call last)",
      "\u001b[0;32m<ipython-input-1-e8e158e230bc>\u001b[0m in \u001b[0;36m<module>\u001b[0;34m()\u001b[0m\n\u001b[0;32m----> 1\u001b[0;31m \u001b[0;32mfrom\u001b[0m \u001b[0mvpython\u001b[0m \u001b[0;32mimport\u001b[0m \u001b[0;34m*\u001b[0m\u001b[0;34m\u001b[0m\u001b[0m\n\u001b[0m\u001b[1;32m      2\u001b[0m \u001b[0;32mclass\u001b[0m \u001b[0mdframe\u001b[0m\u001b[0;34m:\u001b[0m\u001b[0;34m\u001b[0m\u001b[0m\n\u001b[1;32m      3\u001b[0m     \u001b[0;32mdef\u001b[0m \u001b[0m__init__\u001b[0m\u001b[0;34m(\u001b[0m\u001b[0mself\u001b[0m\u001b[0;34m,\u001b[0m \u001b[0mpos\u001b[0m\u001b[0;34m=\u001b[0m\u001b[0mvector\u001b[0m\u001b[0;34m(\u001b[0m\u001b[0;36m0\u001b[0m\u001b[0;34m,\u001b[0m\u001b[0;36m0\u001b[0m\u001b[0;34m,\u001b[0m\u001b[0;36m0\u001b[0m\u001b[0;34m)\u001b[0m\u001b[0;34m)\u001b[0m\u001b[0;34m:\u001b[0m\u001b[0;34m\u001b[0m\u001b[0m\n\u001b[1;32m      4\u001b[0m         \u001b[0mself\u001b[0m\u001b[0;34m.\u001b[0m\u001b[0mlist\u001b[0m \u001b[0;34m=\u001b[0m \u001b[0;34m[\u001b[0m\u001b[0;34m]\u001b[0m\u001b[0;34m\u001b[0m\u001b[0m\n\u001b[1;32m      5\u001b[0m         \u001b[0mself\u001b[0m\u001b[0;34m.\u001b[0m\u001b[0mpos\u001b[0m \u001b[0;34m=\u001b[0m \u001b[0mpos\u001b[0m\u001b[0;34m\u001b[0m\u001b[0m\n",
      "\u001b[0;31mImportError\u001b[0m: No module named vpython"
     ]
    }
   ],
   "source": [
    "from vpython import *\n",
    "class dframe:\n",
    "    def __init__(self, pos=vector(0,0,0)):\n",
    "        self.list = []\n",
    "        self.pos = pos\n",
    "    def move_to(self, pos):\n",
    "        dp = pos - self.pos \n",
    "        self.pos = pos\n",
    "        for i in self.list:\n",
    "            i.pos = i.pos + dp\n",
    "    def move_by(self, dp): #change in position\n",
    "        self.pos = self.pos + dp\n",
    "        for i in self.list:\n",
    "            i.pos = self.pos + dp\n",
    "coil = dframe()\n",
    "#coil = frame()\n",
    "spring = helix( pos=vector(-2.5,0,0), axis=vector(5.,0,0), radius=1, coils=5.5, thickness=0.1)\n",
    "spring.color = color.yellow\n",
    "coil.list.append(spring)\n",
    "\n",
    "wire1 = curve( pos=[(-2.5,0,1),(-2.5,-5,0)], radius=0.05)\n",
    "wire1.color = spring.color\n",
    "coil.list.append(wire1)\n",
    "\n",
    "wire2 = curve( pos=[(2.5,0,-1),(2.5,-5,0)], radius=0.05)\n",
    "wire2.color = spring.color\n",
    "coil.list.append(wire2)\n",
    "\n",
    "magnet = dframe()\n",
    "bar = box( color=color.red, length=4, width=0.5, height = 1)\n",
    "magnet.list.append(bar)\n",
    "\n",
    "l_move_coil = False\n",
    "if l_move_coil:\n",
    "    coil.move_to(vector(-2,0,0))\n",
    "l_move_magnet = True\n",
    "if l_move_magnet:\n",
    "    magnet.move_to(vector(-2,0,0))\n",
    "\n",
    "\n",
    "dx = 0.1\n",
    "ct = 0\n",
    "\n",
    "while 1:\n",
    "    ct+=1\n",
    "    rate(10)\n",
    "    if l_move_magnet:\n",
    "        magnet.move_by(vector(dx,0,0))\n",
    "        if magnet.pos.x >= 2.0:\n",
    "            dx *= -1.0\n",
    "            magnet.move_to(vector(2,0,0))\n",
    "        elif magnet.pos.x <= -2.0:\n",
    "            dx *= -1.0\n",
    "            magnet.move_to(vector(-2.0,0,0))\n",
    "    if l_move_coil:\n",
    "        coil.move_by(vector(dx,0,0))\n",
    "        if coil.pos.x >= 2.0:\n",
    "            dx *= -1.0\n",
    "            coil.move_to(vector(2.0,0,0))\n",
    "        elif coil.pos.x <= -2.0:\n",
    "            dx *= -1.0\n",
    "            coil.move_to(vector(-2.0,0,0))\n",
    "\n",
    "\n"
   ]
  },
  {
   "cell_type": "code",
   "execution_count": null,
   "metadata": {},
   "outputs": [],
   "source": []
  },
  {
   "cell_type": "code",
   "execution_count": null,
   "metadata": {},
   "outputs": [],
   "source": []
  },
  {
   "cell_type": "code",
   "execution_count": null,
   "metadata": {},
   "outputs": [],
   "source": []
  }
 ],
 "metadata": {
  "kernelspec": {
   "display_name": "Python 3",
   "language": "python",
   "name": "python3"
  },
  "language_info": {
   "codemirror_mode": {
    "name": "ipython",
    "version": 2
   },
   "file_extension": ".py",
   "mimetype": "text/x-python",
   "name": "python",
   "nbconvert_exporter": "python",
   "pygments_lexer": "ipython2",
   "version": "2.7.15"
  },
  "name": "bobaimant.ipynb"
 },
 "nbformat": 4,
 "nbformat_minor": 2
}
