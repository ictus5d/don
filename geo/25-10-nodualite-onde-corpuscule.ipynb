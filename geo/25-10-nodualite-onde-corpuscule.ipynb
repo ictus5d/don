{
 "cells": [
  {
   "cell_type": "code",
   "execution_count": 1,
   "metadata": {},
   "outputs": [],
   "source": [
    "%display latex"
   ]
  },
  {
   "cell_type": "markdown",
   "metadata": {},
   "source": [
    "Il n'existe pas de dualité onde/particule. Une particule est une onde compressée, donc chaque onde a une singularité pour devenir une particule. Mon objectif ici est de démontrer cette assertion.\n",
    "\n",
    "Les nombres ont un poids, c'est la pondération, par exemple, $pi$ à une pondération décimale, 3+1/10... etc. Mais au bout d'une certaine décimale, zéro quel est son poids ?\n",
    "En binaire on peut dire 32 bits = $2^32$, mais ce n'est pas du binaire."
   ]
  },
  {
   "cell_type": "code",
   "execution_count": 2,
   "metadata": {},
   "outputs": [
    {
     "data": {
      "text/html": [
       "<html><script type=\"math/tex; mode=display\">\\newcommand{\\Bold}[1]{\\mathbf{#1}}3.14159265358979323846264338327950</script></html>"
      ],
      "text/plain": [
       "3.14159265358979323846264338327950"
      ]
     },
     "execution_count": 2,
     "metadata": {},
     "output_type": "execute_result"
    }
   ],
   "source": [
    "p=n(pi,digits=33);p"
   ]
  },
  {
   "cell_type": "code",
   "execution_count": 4,
   "metadata": {},
   "outputs": [
    {
     "data": {
      "text/html": [
       "<html><script type=\"math/tex; mode=display\">\\newcommand{\\Bold}[1]{\\mathbf{#1}}1.05263157894737 \\times 10^{34}</script></html>"
      ],
      "text/plain": [
       "1.05263157894737e34"
      ]
     },
     "execution_count": 4,
     "metadata": {},
     "output_type": "execute_result"
    }
   ],
   "source": [
    "1/0.000000000000000000000000000000000095"
   ]
  },
  {
   "cell_type": "code",
   "execution_count": 16,
   "metadata": {},
   "outputs": [
    {
     "data": {
      "text/html": [
       "<html><script type=\"math/tex; mode=display\">\\newcommand{\\Bold}[1]{\\mathbf{#1}}\\left(4.16666666666667 \\times 10^{-15}, \\verb|eV.s|\\right)</script></html>"
      ],
      "text/plain": [
       "(4.16666666666667e-15, 'eV.s')"
      ]
     },
     "execution_count": 16,
     "metadata": {},
     "output_type": "execute_result"
    }
   ],
   "source": [
    "1.25/3E14,\"eV.s\""
   ]
  },
  {
   "cell_type": "code",
   "execution_count": 17,
   "metadata": {},
   "outputs": [
    {
     "data": {
      "text/html": [
       "<html><script type=\"math/tex; mode=display\">\\newcommand{\\Bold}[1]{\\mathbf{#1}}4.16729559748428 \\times 10^{-15}</script></html>"
      ],
      "text/plain": [
       "4.16729559748428e-15"
      ]
     },
     "execution_count": 17,
     "metadata": {},
     "output_type": "execute_result"
    }
   ],
   "source": [
    "h=6.626E-34;eV=1.59E-19\n",
    "h/eV"
   ]
  },
  {
   "cell_type": "code",
   "execution_count": 21,
   "metadata": {},
   "outputs": [
    {
     "data": {
      "text/html": [
       "<html><script type=\"math/tex; mode=display\">\\newcommand{\\Bold}[1]{\\mathbf{#1}}\\left(6.62600000000000 \\times 10^{-34}, \\verb|J/s|\\right)</script></html>"
      ],
      "text/plain": [
       "(6.62600000000000e-34, 'J/s')"
      ]
     },
     "execution_count": 21,
     "metadata": {},
     "output_type": "execute_result"
    }
   ],
   "source": [
    "6.626E-34,\"J/s\""
   ]
  },
  {
   "cell_type": "markdown",
   "metadata": {},
   "source": [
    "La masse est une compression de l'onde, il n'y a pas de dualité onde, corpuscule. La nature nous fournis $\\pi$, chiffre naturel,\n"
   ]
  },
  {
   "cell_type": "code",
   "execution_count": 27,
   "metadata": {},
   "outputs": [
    {
     "data": {
      "text/html": [
       "<html><script type=\"math/tex; mode=display\">\\newcommand{\\Bold}[1]{\\mathbf{#1}}3.14269680527354</script></html>"
      ],
      "text/plain": [
       "3.14269680527354"
      ]
     },
     "execution_count": 27,
     "metadata": {},
     "output_type": "execute_result"
    }
   ],
   "source": [
    "sqrt(8.0/(3^4/100))"
   ]
  },
  {
   "cell_type": "code",
   "execution_count": 28,
   "metadata": {},
   "outputs": [
    {
     "data": {
      "text/html": [
       "<html><script type=\"math/tex; mode=display\">\\newcommand{\\Bold}[1]{\\mathbf{#1}}9.87654320987654</script></html>"
      ],
      "text/plain": [
       "9.87654320987654"
      ]
     },
     "execution_count": 28,
     "metadata": {},
     "output_type": "execute_result"
    }
   ],
   "source": [
    "8.0/(81.0/100)"
   ]
  },
  {
   "cell_type": "code",
   "execution_count": 40,
   "metadata": {},
   "outputs": [
    {
     "data": {
      "text/html": [
       "<html><script type=\"math/tex; mode=display\">\\newcommand{\\Bold}[1]{\\mathbf{#1}}3.14165561448100</script></html>"
      ],
      "text/plain": [
       "3.14165561448100"
      ]
     },
     "execution_count": 40,
     "metadata": {},
     "output_type": "execute_result"
    }
   ],
   "source": [
    "sqrt(9.87)"
   ]
  },
  {
   "cell_type": "markdown",
   "metadata": {},
   "source": [
    "On voit ici que $\\pi$ est déterminé dans les nombres, précis au millième et 1/10000 de trop. Ce qui montre que les théories ne servent à rien et qu'elles sont mêmes anti- nature, contre nature !"
   ]
  },
  {
   "cell_type": "markdown",
   "metadata": {},
   "source": [
    "La lumière n'est pas une vitesse $c$, c'est une constante $c=0$"
   ]
  }
 ],
 "metadata": {
  "kernelspec": {
   "display_name": "SageMath 8.5",
   "language": "",
   "name": "sagemath"
  },
  "language_info": {
   "codemirror_mode": {
    "name": "ipython",
    "version": 2
   },
   "file_extension": ".py",
   "mimetype": "text/x-python",
   "name": "python",
   "nbconvert_exporter": "python",
   "pygments_lexer": "ipython2",
   "version": "2.7.15"
  }
 },
 "nbformat": 4,
 "nbformat_minor": 2
}
