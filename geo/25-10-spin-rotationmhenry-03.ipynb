{
 "cells": [
  {
   "cell_type": "code",
   "execution_count": 1,
   "metadata": {},
   "outputs": [],
   "source": [
    "#https://prmarchenry.blogspot.com/2014/03/spin-du-photon.html#\n",
    "%display latex"
   ]
  },
  {
   "cell_type": "code",
   "execution_count": 10,
   "metadata": {},
   "outputs": [
    {
     "data": {
      "text/html": [
       "<html><script type=\"math/tex; mode=display\">\\newcommand{\\Bold}[1]{\\mathbf{#1}}\\left(h, \\nu, E, m, c\\right)</script></html>"
      ],
      "text/plain": [
       "(h, nu, E, m, c)"
      ]
     },
     "execution_count": 10,
     "metadata": {},
     "output_type": "execute_result"
    }
   ],
   "source": [
    "var(\"h nu E m c\")"
   ]
  },
  {
   "cell_type": "code",
   "execution_count": 11,
   "metadata": {},
   "outputs": [
    {
     "data": {
      "text/html": [
       "<html><script type=\"math/tex; mode=display\">\\newcommand{\\Bold}[1]{\\mathbf{#1}}E = h \\nu</script></html>"
      ],
      "text/plain": [
       "E == h*nu"
      ]
     },
     "metadata": {},
     "output_type": "display_data"
    },
    {
     "data": {
      "text/html": [
       "<html><script type=\"math/tex; mode=display\">\\newcommand{\\Bold}[1]{\\mathbf{#1}}E = c^{2} m</script></html>"
      ],
      "text/plain": [
       "E == c^2*m"
      ]
     },
     "metadata": {},
     "output_type": "display_data"
    }
   ],
   "source": [
    "Eh=E==h*nu;show(Eh)\n",
    "Ec=E==m*c^2;show(Ec)"
   ]
  },
  {
   "cell_type": "markdown",
   "metadata": {},
   "source": [
    "Ces deux équations montrent que $h$ est $m$ et que $c^2$ est $h$, d'autant plus que $c^2$ n'est pas une vitesse (erreur des scientifiques en 1900) mais une fréquence de résonnance !\n",
    "\n",
    "Pulsation= $w=\\frac{1}{\\sqrt\\mu\\epsilon}$ =Quantité de mouvement=$p=mv^2$=$mc^2$\n",
    "\n",
    "Fréquence de résonance = $f_r$=$\\frac{w}{2\\pi}$=$\\frac {1}{2\\pi\\sqrt LC}$"
   ]
  },
  {
   "cell_type": "code",
   "execution_count": null,
   "metadata": {},
   "outputs": [],
   "source": []
  }
 ],
 "metadata": {
  "kernelspec": {
   "display_name": "SageMath 8.5",
   "language": "",
   "name": "sagemath"
  },
  "language_info": {
   "codemirror_mode": {
    "name": "ipython",
    "version": 2
   },
   "file_extension": ".py",
   "mimetype": "text/x-python",
   "name": "python",
   "nbconvert_exporter": "python",
   "pygments_lexer": "ipython2",
   "version": "2.7.15"
  }
 },
 "nbformat": 4,
 "nbformat_minor": 2
}
