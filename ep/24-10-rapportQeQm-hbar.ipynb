{
 "cells": [
  {
   "cell_type": "markdown",
   "metadata": {},
   "source": []
  },
  {
   "cell_type": "code",
   "execution_count": 1,
   "metadata": {},
   "outputs": [],
   "source": [
    "%display latex"
   ]
  },
  {
   "cell_type": "code",
   "execution_count": 2,
   "metadata": {},
   "outputs": [
    {
     "data": {
      "text/html": [
       "<html><script type=\"math/tex; mode=display\">\\newcommand{\\Bold}[1]{\\mathbf{#1}}r_{q} = \\frac{Q_{e}}{Q_{m}}</script></html>"
      ],
      "text/plain": [
       "r_q == Q_e/Q_m"
      ]
     },
     "metadata": {},
     "output_type": "display_data"
    }
   ],
   "source": [
    "hb=var(\"hbar\",latex_name=r'\\mathcal{\\hbar}')\n",
    "var(\"Q_e Q_m n r_q r_p\")\n",
    "qr=r_q==Q_e/Q_m;show(qr)"
   ]
  },
  {
   "cell_type": "code",
   "execution_count": 3,
   "metadata": {},
   "outputs": [
    {
     "data": {
      "text/html": [
       "<html><script type=\"math/tex; mode=display\">\\newcommand{\\Bold}[1]{\\mathbf{#1}}r_{p} = Q_{e} Q_{m}</script></html>"
      ],
      "text/plain": [
       "r_p == Q_e*Q_m"
      ]
     },
     "metadata": {},
     "output_type": "display_data"
    }
   ],
   "source": [
    "rp=r_p==Q_e*Q_m;show(rp)"
   ]
  },
  {
   "cell_type": "code",
   "execution_count": 4,
   "metadata": {},
   "outputs": [
    {
     "data": {
      "text/html": [
       "<html><script type=\"math/tex; mode=display\">\\newcommand{\\Bold}[1]{\\mathbf{#1}}c = \\frac{Q_{e}}{Q_{m}}</script></html>"
      ],
      "text/plain": [
       "c == Q_e/Q_m"
      ]
     },
     "metadata": {},
     "output_type": "display_data"
    }
   ],
   "source": [
    "var(\"c Q_em n\")\n",
    "c0=c==Q_e/Q_m;show(c0)"
   ]
  },
  {
   "cell_type": "code",
   "execution_count": 5,
   "metadata": {},
   "outputs": [
    {
     "data": {
      "text/html": [
       "<html><script type=\"math/tex; mode=display\">\\newcommand{\\Bold}[1]{\\mathbf{#1}}Q_{\\mathit{em}} = 2 \\, \\pi {\\mathcal{\\hbar}} n</script></html>"
      ],
      "text/plain": [
       "Q_em == 2*pi*hbar*n"
      ]
     },
     "metadata": {},
     "output_type": "display_data"
    }
   ],
   "source": [
    "qem=Q_em==2*pi*n*hb;show(qem)"
   ]
  },
  {
   "cell_type": "code",
   "execution_count": 6,
   "metadata": {},
   "outputs": [
    {
     "data": {
      "text/html": [
       "<html><script type=\"math/tex; mode=display\">\\newcommand{\\Bold}[1]{\\mathbf{#1}}Q_{e} Q_{m} \\verb|=| Q_{\\mathit{em}} = 2 \\, \\pi {\\mathcal{\\hbar}} n \\verb|=| c^{3}</script></html>"
      ],
      "text/plain": [
       "Q_e*Q_m '=' Q_em == 2*pi*hbar*n '=' c^3"
      ]
     },
     "metadata": {},
     "output_type": "display_data"
    }
   ],
   "source": [
    "show(Q_e*Q_m,\"=\",qem,\"=\",c^3)"
   ]
  },
  {
   "cell_type": "code",
   "execution_count": 7,
   "metadata": {},
   "outputs": [
    {
     "data": {
      "text/html": [
       "<html><script type=\"math/tex; mode=display\">\\newcommand{\\Bold}[1]{\\mathbf{#1}}\\frac{Q_{e}}{Q_{m}} \\verb|=| c</script></html>"
      ],
      "text/plain": [
       "Q_e/Q_m '=' c"
      ]
     },
     "metadata": {},
     "output_type": "display_data"
    }
   ],
   "source": [
    "show(Q_e/Q_m,\"=\",c)"
   ]
  },
  {
   "cell_type": "markdown",
   "metadata": {},
   "source": [
    "Il faut que c soit $c^4$ pour avoir une masse égale à un électron environ"
   ]
  },
  {
   "cell_type": "code",
   "execution_count": 8,
   "metadata": {},
   "outputs": [
    {
     "data": {
      "text/html": [
       "<html><script type=\"math/tex; mode=display\">\\newcommand{\\Bold}[1]{\\mathbf{#1}}1.23799014723612 \\times 10^{-34}</script></html>"
      ],
      "text/plain": [
       "1.23799014723612e-34"
      ]
     },
     "execution_count": 8,
     "metadata": {},
     "output_type": "execute_result"
    }
   ],
   "source": [
    "1/(299792458.0^4)"
   ]
  },
  {
   "cell_type": "markdown",
   "metadata": {},
   "source": [
    "La masse est donc le produit de $c^4$"
   ]
  },
  {
   "cell_type": "code",
   "execution_count": 9,
   "metadata": {},
   "outputs": [
    {
     "data": {
      "text/html": [
       "<html><script type=\"math/tex; mode=display\">\\newcommand{\\Bold}[1]{\\mathbf{#1}}\\verb|h=| 6.28318530000000 \\times 10^{-34}</script></html>"
      ],
      "text/plain": [
       "'h=' 6.28318530000000e-34"
      ]
     },
     "metadata": {},
     "output_type": "display_data"
    }
   ],
   "source": [
    "h=2*3.14159265*1E-34;show(\"h=\",n(h))"
   ]
  },
  {
   "cell_type": "code",
   "execution_count": 10,
   "metadata": {},
   "outputs": [
    {
     "data": {
      "text/html": [
       "<html><script type=\"math/tex; mode=display\">\\newcommand{\\Bold}[1]{\\mathbf{#1}}{\\mathcal{\\hbar}} \\verb|=| 1.00000000000000 \\times 10^{-34}</script></html>"
      ],
      "text/plain": [
       "hbar '=' 1.00000000000000e-34"
      ]
     },
     "metadata": {},
     "output_type": "display_data"
    }
   ],
   "source": [
    "bh=h/(2*3.14159265);show(hb,\"=\",n(bh))"
   ]
  },
  {
   "cell_type": "markdown",
   "metadata": {},
   "source": [
    "La constante de planck h rammenée à 2$\\pi$, montre bien que $\\hbar$ =d est le diamètre d'une circonférence (h)."
   ]
  },
  {
   "cell_type": "code",
   "execution_count": null,
   "metadata": {},
   "outputs": [],
   "source": []
  },
  {
   "cell_type": "code",
   "execution_count": null,
   "metadata": {},
   "outputs": [],
   "source": []
  }
 ],
 "metadata": {
  "kernelspec": {
   "display_name": "SageMath 8.5",
   "language": "",
   "name": "sagemath"
  },
  "language_info": {
   "codemirror_mode": {
    "name": "ipython",
    "version": 2
   },
   "file_extension": ".py",
   "mimetype": "text/x-python",
   "name": "python",
   "nbconvert_exporter": "python",
   "pygments_lexer": "ipython2",
   "version": "2.7.15"
  }
 },
 "nbformat": 4,
 "nbformat_minor": 2
}
