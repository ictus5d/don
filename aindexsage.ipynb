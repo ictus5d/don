{
 "cells": [
  {
   "cell_type": "markdown",
   "metadata": {
    "collapsed": false
   },
   "source": [
    "### SAGE : conversion des fichiers pythons\n",
    "\n",
    "\n",
    "[S01oh](s01oh.ipynb): Oscillateur harmonique\n",
    "    \n",
    "[S02op](s02op.ipynb): Onde progressive\n",
    "\n",
    "[S09oal](s09oal.ipynb): Oscillateur Amorti Libre\n",
    "\n",
    "\n"
   ]
  }
 ],
 "metadata": {
  "kernelspec": {
   "display_name": "Sage 7.3",
   "language": "",
   "name": "sage"
  },
  "language_info": {
   "codemirror_mode": {
    "name": "ipython",
    "version": 2
   },
   "file_extension": ".py",
   "mimetype": "text/x-python",
   "name": "python",
   "nbconvert_exporter": "python",
   "pygments_lexer": "ipython2",
   "version": "2.7.10"
  }
 },
 "nbformat": 4,
 "nbformat_minor": 0
}
