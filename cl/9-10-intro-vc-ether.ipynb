{
 "cells": [
  {
   "cell_type": "markdown",
   "metadata": {},
   "source": [
    "Ether et lumière\n",
    "\n",
    "L'éther est l'impédance du vide, le rapport entre la perméabilité et la permititivité. Elle est la résistance du vide en ohms =$\\Omega$.\n",
    "Les scientifiques ayant jugé l'éther \"inexistant\" l'ont abandonnée au profit des champs électromagnétique.\n",
    "\n",
    "Ether égale $Z=\\sqrt \\frac{\\mu}{\\epsilon}$ = 120 $\\pi$ $\\Omega$\n",
    "\n",
    "Pour avoir une représentation de $Z$ il suffit de penser à un rond  et comme un cercle fait 360° je vais ramener l'éther à une valeur de $360° \\Omega$, ainsi 1 ohm= 1 degré. Avec =1 Volt / 1 Ampère = 1 Ohm."
   ]
  },
  {
   "cell_type": "code",
   "execution_count": 1,
   "metadata": {},
   "outputs": [
    {
     "data": {
      "text/html": [
       "<html><script type=\"math/tex; mode=display\">\\newcommand{\\Bold}[1]{\\mathbf{#1}}{\\mathcal{\\mu}} = \\left(1.14591559026165 \\times 10^{-6}\\right)</script></html>"
      ],
      "text/plain": [
       "mu == (1.14591559026165e-6)"
      ]
     },
     "metadata": {},
     "output_type": "display_data"
    },
    {
     "data": {
      "text/html": [
       "<html><script type=\"math/tex; mode=display\">\\newcommand{\\Bold}[1]{\\mathbf{#1}}{\\mathcal{\\epsilon}} = \\left(8.84194128288307 \\times 10^{-12}\\right)</script></html>"
      ],
      "text/plain": [
       "epsilon == (8.84194128288307e-12)"
      ]
     },
     "metadata": {},
     "output_type": "display_data"
    }
   ],
   "source": [
    "%display latex\n",
    "mu=var(\"mu\",latex_name=r'\\mathcal{\\mu}')\n",
    "nu=var(\"nu\",latex_name=r'\\mathcal{\\nu}')\n",
    "omega=var(\"omega\",latex_name=r'\\mathcal{\\omega}')\n",
    "epsilon=var(\"epsilon\",latex_name=r'\\mathcal{\\epsilon}')\n",
    "u=mu==1/n(pi)*360E-8;show(u)\n",
    "s=epsilon==1/(n(pi)*360E+8);show(s)"
   ]
  },
  {
   "cell_type": "code",
   "execution_count": 2,
   "metadata": {},
   "outputs": [
    {
     "data": {
      "text/html": [
       "<html><script type=\"math/tex; mode=display\">\\newcommand{\\Bold}[1]{\\mathbf{#1}}{\\mathcal{\\omega}} = \\frac{1}{\\sqrt{{\\mathcal{\\epsilon}} {\\mathcal{\\mu}}}}</script></html>"
      ],
      "text/plain": [
       "omega == 1/sqrt(epsilon*mu)"
      ]
     },
     "metadata": {},
     "output_type": "display_data"
    },
    {
     "data": {
      "text/html": [
       "<html><script type=\"math/tex; mode=display\">\\newcommand{\\Bold}[1]{\\mathbf{#1}}w_{0} = \\sqrt{\\frac{k}{m}}</script></html>"
      ],
      "text/plain": [
       "w_0 == sqrt(k/m)"
      ]
     },
     "metadata": {},
     "output_type": "display_data"
    }
   ],
   "source": [
    "var(\"w_0 m k\")\n",
    "w=omega==1/sqrt(mu*epsilon);show(w)\n",
    "w0=w_0==sqrt(k/m);show(w0)"
   ]
  },
  {
   "cell_type": "code",
   "execution_count": 3,
   "metadata": {},
   "outputs": [
    {
     "data": {
      "text/html": [
       "<html><script type=\"math/tex; mode=display\">\\newcommand{\\Bold}[1]{\\mathbf{#1}}\\verb|Fr|\\phantom{\\verb!x!}\\verb|=| \\frac{1}{2 \\, \\pi \\sqrt{{\\mathcal{\\epsilon}} {\\mathcal{\\mu}}}}</script></html>"
      ],
      "text/plain": [
       "'Fr =' 1/2/(pi*sqrt(epsilon*mu))"
      ]
     },
     "metadata": {},
     "output_type": "display_data"
    }
   ],
   "source": [
    "f=1/(2*pi*sqrt(mu*epsilon));show(\"Fr =\",f)"
   ]
  },
  {
   "cell_type": "markdown",
   "metadata": {},
   "source": [
    "L'équivalent des constantes en R L C "
   ]
  },
  {
   "cell_type": "code",
   "execution_count": 4,
   "metadata": {},
   "outputs": [
    {
     "data": {
      "text/html": [
       "<html><script type=\"math/tex; mode=display\">\\newcommand{\\Bold}[1]{\\mathbf{#1}}\\verb|F|\\phantom{\\verb!x!}\\verb|=| \\frac{1}{2 \\, \\pi \\sqrt{C L}}</script></html>"
      ],
      "text/plain": [
       "'F =' 1/2/(pi*sqrt(C*L))"
      ]
     },
     "metadata": {},
     "output_type": "display_data"
    }
   ],
   "source": [
    "var(\"L C\")\n",
    "fe=1/(2*pi*sqrt(L*C));show(\"F =\",fe)"
   ]
  },
  {
   "cell_type": "markdown",
   "metadata": {},
   "source": [
    "https://fr.wikipedia.org/wiki/Analogie_%C3%A9lectro-m%C3%A9canique\n",
    "L=inductance propre, m= masse du mobile,R=résistance , p= amortissement (coef de frottement),1/C= inverse de la capacité,k= constante de raideur\n",
    "\n",
    "Circuit RLC : $T=2\\pi\\sqrt(LC) $= période propre\n",
    "\n",
    "Masse-ressort : $T=2 \\pi \\sqrt \\frac{m}{k}$ = période propre"
   ]
  },
  {
   "cell_type": "markdown",
   "metadata": {},
   "source": [
    "http://electroacoustique.univ-lemans.fr/cours/pdf/grain_24.pdf page 17\n",
    "\n",
    "Doppler et bande passante\n",
    "\n",
    "Facteur de Qualité : $\\frac{f_r}{f_h-f_b}$\n",
    "\n",
    "$\\frac{w_r}{w_h-w_b}$\n",
    "\n",
    "$\\frac{\\sqrt L}{R \\sqrt C}$ "
   ]
  },
  {
   "cell_type": "code",
   "execution_count": 5,
   "metadata": {},
   "outputs": [
    {
     "data": {
      "text/html": [
       "<html><script type=\"math/tex; mode=display\">\\newcommand{\\Bold}[1]{\\mathbf{#1}}0.159154943091895</script></html>"
      ],
      "text/plain": [
       "0.159154943091895"
      ]
     },
     "execution_count": 5,
     "metadata": {},
     "output_type": "execute_result"
    }
   ],
   "source": [
    "1/(2*n(pi))"
   ]
  },
  {
   "cell_type": "markdown",
   "metadata": {},
   "source": [
    "https://www.sciences-technologies.net/images/documents/Electronique/5-facteur_de_qualite_et_ciecuit_resonnant.pdf  page8"
   ]
  },
  {
   "cell_type": "code",
   "execution_count": 6,
   "metadata": {},
   "outputs": [],
   "source": [
    "R=5;L=0.001;C=0.000000001;V=10"
   ]
  },
  {
   "cell_type": "code",
   "execution_count": 7,
   "metadata": {},
   "outputs": [
    {
     "data": {
      "text/html": [
       "<html><script type=\"math/tex; mode=display\">\\newcommand{\\Bold}[1]{\\mathbf{#1}}1000000.0 \\phantom{\\verb!x!}\\verb|rd/s|</script></html>"
      ],
      "text/plain": [
       "1000000.0 ' rd/s'"
      ]
     },
     "metadata": {},
     "output_type": "display_data"
    },
    {
     "data": {
      "text/html": [
       "<html><script type=\"math/tex; mode=display\">\\newcommand{\\Bold}[1]{\\mathbf{#1}}159 \\phantom{\\verb!x!}\\verb|kHz|</script></html>"
      ],
      "text/plain": [
       "159 ' kHz'"
      ]
     },
     "metadata": {},
     "output_type": "display_data"
    }
   ],
   "source": [
    "W0=1/sqrt(L*C);show(round(W0,6),\" rd/s\")\n",
    "F0=W0/(2*n(pi));show(round(F0/1000),\" kHz\")"
   ]
  },
  {
   "cell_type": "code",
   "execution_count": 8,
   "metadata": {},
   "outputs": [
    {
     "data": {
      "text/html": [
       "<html><script type=\"math/tex; mode=display\">\\newcommand{\\Bold}[1]{\\mathbf{#1}}\\verb|Facteur|\\phantom{\\verb!x!}\\verb|de|\\phantom{\\verb!x!}\\verb|qualite|\\phantom{\\verb!x!}\\verb|:|\\phantom{\\verb!x!}\\verb|Q|\\phantom{\\verb!x!}\\verb|=| 200</script></html>"
      ],
      "text/plain": [
       "'Facteur de qualite : Q = ' 200"
      ]
     },
     "metadata": {},
     "output_type": "display_data"
    }
   ],
   "source": [
    "Q0=L*W0/R;\n",
    "show(\"Facteur de qualite : Q = \",round(Q0))"
   ]
  },
  {
   "cell_type": "markdown",
   "metadata": {},
   "source": [
    "Facteur de qualité : Rapport du produit de l'inductance par la pulsation divisé par la résistance = $Q=200$"
   ]
  },
  {
   "cell_type": "code",
   "execution_count": 11,
   "metadata": {},
   "outputs": [
    {
     "data": {
      "text/html": [
       "<html><script type=\"math/tex; mode=display\">\\newcommand{\\Bold}[1]{\\mathbf{#1}}5000 \\phantom{\\verb!x!}\\verb|rd/s|</script></html>"
      ],
      "text/plain": [
       "5000 ' rd/s'"
      ]
     },
     "metadata": {},
     "output_type": "display_data"
    },
    {
     "data": {
      "text/html": [
       "<html><script type=\"math/tex; mode=display\">\\newcommand{\\Bold}[1]{\\mathbf{#1}}795 \\phantom{\\verb!x!}\\verb|Hz|</script></html>"
      ],
      "text/plain": [
       "795 ' Hz'"
      ]
     },
     "metadata": {},
     "output_type": "display_data"
    },
    {
     "data": {
      "text/html": [
       "<html><script type=\"math/tex; mode=display\">\\newcommand{\\Bold}[1]{\\mathbf{#1}}\\verb|Qo.Vo=Vc=Vl=| 2000 \\phantom{\\verb!x!}\\verb|Volts|\\phantom{\\verb!x!}\\verb|!!|</script></html>"
      ],
      "text/plain": [
       "'Qo.Vo=Vc=Vl=' 2000 ' Volts !!'"
      ]
     },
     "metadata": {},
     "output_type": "display_data"
    }
   ],
   "source": [
    "dW=W0/Q0;show(round(dW),\" rd/s\")\n",
    "df=dW/(2*n(pi));show(int(df),\" Hz\")\n",
    "Vcl=Q0*V;show(\"Qo.Vo=Vc=Vl=\",round(Vcl), \" Volts !!\")"
   ]
  },
  {
   "cell_type": "code",
   "execution_count": 37,
   "metadata": {},
   "outputs": [
    {
     "data": {
      "image/png": "[encoded data removed]",
      "text/plain": [
       "Graphics object consisting of 2 graphics primitives"
      ]
     },
     "metadata": {},
     "output_type": "display_data"
    }
   ],
   "source": [
    "var(\"omega\")\n",
    "R=1;L=0.01;C=0.0001;w=1/(sqrt(L*C));\n",
    "#R=3;L=5E-2;C=5E-5;w=1/(sqrt(L*C));\n",
    "p=plot(abs(1/(1+i*omega*R*C-omega*omega*L*C)),\n",
    "       [omega,0,2*w],color=\"darkgreen\")\n",
    "f=w;r=R;c=C;l=L\n",
    "lbl = text(\"$w_r = %.0f rad/s$\" % (f),(430,1),\n",
    "           rgbcolor=\"darkgreen\",\n",
    "           horizontal_alignment=\"left\",\n",
    "           fontsize=10,\n",
    "           bounding_box={'boxstyle':'round', 'fc':'w'})\n",
    "show(p+lbl,figsize=4,frame=True,axes=False,\n",
    "     gridlines=\"minor\",fontsize=6,\n",
    "     gridlinesstyle=dict(color=\"orange\",\n",
    "                         linestyle=\"-\",\n",
    "                         linewidth=\"0.5\"))"
   ]
  },
  {
   "cell_type": "code",
   "execution_count": 3,
   "metadata": {},
   "outputs": [],
   "source": [
    "var('f l c');radians = pi/180.0;degrees = 180.0/pi\n",
    "def argd(x):\n",
    "    return N(arg(x) * degrees)\n",
    "def plt(q,a,b,typ = abs,col = 'blue'):\n",
    "     return plot(lambda x: float(typ(q(x))),(x,a,b),rgbcolor=col)\n",
    "omega = 2*pi*f    \n",
    "zs(r,l,c,f) = r + (i*omega*l) - i/(omega*c)"
   ]
  },
  {
   "cell_type": "code",
   "execution_count": 4,
   "metadata": {},
   "outputs": [
    {
     "data": {
      "image/png": "[encoded data removed]",
      "text/plain": [
       "Graphics object consisting of 2 graphics primitives"
      ]
     },
     "metadata": {},
     "output_type": "display_data"
    }
   ],
   "source": [
    "a = 1;b = 100;r = 1;l = 6.5536E-2;c = 1.77147E-4;\n",
    "#a = 1;b = 250;r = 3;l = 5E-2;c = 5E-5;\n",
    "fr=n(1/(2*pi*(sqrt(l*c))))\n",
    "lbl = text(\"$f_r = %.0f Hz$\" % (fr),(80,0.04),rgbcolor=\"red\",\n",
    "           horizontal_alignment=\"left\", fontsize=10,\n",
    "           vertical_alignment=\"top\",\n",
    "        bounding_box={'boxstyle':'round', 'fc':'w'}  )\n",
    "q(f) = zs(r,l,c,f);p1 = plt(1/q,a,b,abs,\"red\")\n",
    "zs(r,l,c,f) = r + (i*omega*l) - i/(omega*c)\n",
    "show(p1+lbl,figsize=(4,3),fontsize=6,\n",
    "     frame=True,gridlines=\"minor\",\n",
    "     gridlinesstyle=dict(color=\"lightgreen\", \n",
    "                         linestyle=\"-\",\n",
    "                         linewidth=\"0.5\"))  "
   ]
  },
  {
   "cell_type": "code",
   "execution_count": null,
   "metadata": {},
   "outputs": [],
   "source": []
  },
  {
   "cell_type": "code",
   "execution_count": null,
   "metadata": {},
   "outputs": [],
   "source": []
  },
  {
   "cell_type": "code",
   "execution_count": null,
   "metadata": {},
   "outputs": [],
   "source": []
  }
 ],
 "metadata": {
  "kernelspec": {
   "display_name": "SageMath 8.5",
   "language": "",
   "name": "sagemath"
  },
  "language_info": {
   "codemirror_mode": {
    "name": "ipython",
    "version": 2
   },
   "file_extension": ".py",
   "mimetype": "text/x-python",
   "name": "python",
   "nbconvert_exporter": "python",
   "pygments_lexer": "ipython2",
   "version": "2.7.15"
  }
 },
 "nbformat": 4,
 "nbformat_minor": 2
}
