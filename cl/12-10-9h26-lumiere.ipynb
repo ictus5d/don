{
 "cells": [
  {
   "cell_type": "markdown",
   "metadata": {},
   "source": [
    "###### Fréquence = rayon\n",
    "\n",
    "$\\omega = \\pi f 2 $ circonférence = $c=\\pi r 2$\n",
    "\n",
    "Donc $\\omega$ a toujours une valeur fondamentale\n",
    "\n",
    "314159265.3 x 2 * 1 équivalente à L(inductance) C(capacitance)."
   ]
  },
  {
   "cell_type": "code",
   "execution_count": 1,
   "metadata": {},
   "outputs": [],
   "source": [
    "%display latex"
   ]
  },
  {
   "cell_type": "code",
   "execution_count": 2,
   "metadata": {},
   "outputs": [
    {
     "data": {
      "text/html": [
       "<html><script type=\"math/tex; mode=display\">\\newcommand{\\Bold}[1]{\\mathbf{#1}}\\verb|omega|\\phantom{\\verb!x!}\\verb|=| 6.28318530717959</script></html>"
      ],
      "text/plain": [
       "'omega = ' 6.28318530717959"
      ]
     },
     "metadata": {},
     "output_type": "display_data"
    }
   ],
   "source": [
    "w=2*n(pi)*1;show(\"omega = \",w)"
   ]
  },
  {
   "cell_type": "code",
   "execution_count": 3,
   "metadata": {},
   "outputs": [
    {
     "data": {
      "text/html": [
       "<html><script type=\"math/tex; mode=display\">\\newcommand{\\Bold}[1]{\\mathbf{#1}}\\verb|u|\\phantom{\\verb!x!}\\verb|=| 1.14591559026165 \\times 10^{-6}</script></html>"
      ],
      "text/plain": [
       "'u = ' 1.14591559026165e-6"
      ]
     },
     "metadata": {},
     "output_type": "display_data"
    }
   ],
   "source": [
    "u=1/n(pi)*360E-8;show(\"u = \",u)"
   ]
  },
  {
   "cell_type": "code",
   "execution_count": 4,
   "metadata": {},
   "outputs": [
    {
     "data": {
      "text/html": [
       "<html><script type=\"math/tex; mode=display\">\\newcommand{\\Bold}[1]{\\mathbf{#1}}\\verb|s|\\phantom{\\verb!x!}\\verb|=| 8.84194128288307 \\times 10^{-12}</script></html>"
      ],
      "text/plain": [
       "'s = ' 8.84194128288307e-12"
      ]
     },
     "metadata": {},
     "output_type": "display_data"
    }
   ],
   "source": [
    "s=1/(n(pi)*360E+8);show(\"s = \",s)"
   ]
  },
  {
   "cell_type": "code",
   "execution_count": 5,
   "metadata": {},
   "outputs": [
    {
     "data": {
      "text/html": [
       "<html><script type=\"math/tex; mode=display\">\\newcommand{\\Bold}[1]{\\mathbf{#1}}\\verb|w|\\phantom{\\verb!x!}\\verb|=| 3.14159265358979 \\times 10^{8}</script></html>"
      ],
      "text/plain": [
       "'w =' 3.14159265358979e8"
      ]
     },
     "metadata": {},
     "output_type": "display_data"
    }
   ],
   "source": [
    "vv=1/sqrt(u*s);show(\"w =\",vv)"
   ]
  },
  {
   "cell_type": "code",
   "execution_count": 6,
   "metadata": {},
   "outputs": [
    {
     "data": {
      "text/html": [
       "<html><script type=\"math/tex; mode=display\">\\newcommand{\\Bold}[1]{\\mathbf{#1}}100000000</script></html>"
      ],
      "text/plain": [
       "100000000"
      ]
     },
     "execution_count": 6,
     "metadata": {},
     "output_type": "execute_result"
    }
   ],
   "source": [
    "fr=vv/(2*n(pi));round(fr*2)"
   ]
  },
  {
   "cell_type": "markdown",
   "metadata": {},
   "source": [
    "La fréquence de résonance est le rayon et $c$ est la circonférence \n",
    "\n"
   ]
  },
  {
   "cell_type": "code",
   "execution_count": 8,
   "metadata": {},
   "outputs": [
    {
     "data": {
      "text/html": [
       "<html><script type=\"math/tex; mode=display\">\\newcommand{\\Bold}[1]{\\mathbf{#1}}1.25663706143592 \\times 10^{-6}</script></html>"
      ],
      "text/plain": [
       "1.25663706143592e-6"
      ]
     },
     "metadata": {},
     "output_type": "display_data"
    },
    {
     "data": {
      "text/html": [
       "<html><script type=\"math/tex; mode=display\">\\newcommand{\\Bold}[1]{\\mathbf{#1}}8.85418781762039 \\times 10^{-12}</script></html>"
      ],
      "text/plain": [
       "8.85418781762039e-12"
      ]
     },
     "metadata": {},
     "output_type": "display_data"
    },
    {
     "data": {
      "text/html": [
       "<html><script type=\"math/tex; mode=display\">\\newcommand{\\Bold}[1]{\\mathbf{#1}}8.85418781762039 \\times 10^{-12}</script></html>"
      ],
      "text/plain": [
       "8.85418781762039e-12"
      ]
     },
     "metadata": {},
     "output_type": "display_data"
    }
   ],
   "source": [
    "q=n(pi)*4E-7;show(q);c=299792458\n",
    "p=1/(q*c*c);show(p);show(p)"
   ]
  },
  {
   "cell_type": "code",
   "execution_count": 11,
   "metadata": {},
   "outputs": [
    {
     "data": {
      "text/html": [
       "<html><script type=\"math/tex; mode=display\">\\newcommand{\\Bold}[1]{\\mathbf{#1}}\\verb|iq|\\phantom{\\verb!x!}\\verb|=| 795774.715459477 \\phantom{\\verb!x!}\\verb|ip|\\phantom{\\verb!x!}\\verb|=| 1.12940906675815 \\times 10^{11}</script></html>"
      ],
      "text/plain": [
       "'iq = ' 795774.715459477 ' ip =' 1.12940906675815e11"
      ]
     },
     "metadata": {},
     "output_type": "display_data"
    }
   ],
   "source": [
    "show(\"iq = \",1/q,\" ip =\" ,1/p)"
   ]
  },
  {
   "cell_type": "code",
   "execution_count": 12,
   "metadata": {},
   "outputs": [
    {
     "data": {
      "text/html": [
       "<html><script type=\"math/tex; mode=display\">\\newcommand{\\Bold}[1]{\\mathbf{#1}}\\verb|cc|\\phantom{\\verb!x!}\\verb|=| 8.98755178736818 \\times 10^{16}</script></html>"
      ],
      "text/plain": [
       "'cc = ' 8.98755178736818e16"
      ]
     },
     "metadata": {},
     "output_type": "display_data"
    }
   ],
   "source": [
    "show(\"cc = \",1/q*1/p)"
   ]
  },
  {
   "cell_type": "code",
   "execution_count": 18,
   "metadata": {},
   "outputs": [
    {
     "data": {
      "text/html": [
       "<html><script type=\"math/tex; mode=display\">\\newcommand{\\Bold}[1]{\\mathbf{#1}}9.9</script></html>"
      ],
      "text/plain": [
       "9.9"
      ]
     },
     "execution_count": 18,
     "metadata": {},
     "output_type": "execute_result"
    }
   ],
   "source": [
    "round(10-0.1,2)"
   ]
  },
  {
   "cell_type": "code",
   "execution_count": 19,
   "metadata": {},
   "outputs": [
    {
     "data": {
      "text/html": [
       "<html><script type=\"math/tex; mode=display\">\\newcommand{\\Bold}[1]{\\mathbf{#1}}299792458</script></html>"
      ],
      "text/plain": [
       "299792458"
      ]
     },
     "execution_count": 19,
     "metadata": {},
     "output_type": "execute_result"
    }
   ],
   "source": [
    "f=10;t=0.1;c"
   ]
  },
  {
   "cell_type": "code",
   "execution_count": 25,
   "metadata": {},
   "outputs": [
    {
     "data": {
      "text/html": [
       "<html><script type=\"math/tex; mode=display\">\\newcommand{\\Bold}[1]{\\mathbf{#1}}\\verb|gamma|\\phantom{\\verb!x!}\\verb|1/10|\\phantom{\\verb!x!}\\verb|de|\\phantom{\\verb!x!}\\verb|c|\\phantom{\\verb!x!}\\verb|=| 29979246</script></html>"
      ],
      "text/plain": [
       "'gamma 1/10 de c =' 29979246"
      ]
     },
     "metadata": {},
     "output_type": "display_data"
    }
   ],
   "source": [
    "gamma=round(c*t);show(\"gamma 1/10 de c =\",gamma)"
   ]
  },
  {
   "cell_type": "code",
   "execution_count": 27,
   "metadata": {},
   "outputs": [
    {
     "data": {
      "text/html": [
       "<html><script type=\"math/tex; mode=display\">\\newcommand{\\Bold}[1]{\\mathbf{#1}}\\verb|10|\\phantom{\\verb!x!}\\verb|fois|\\phantom{\\verb!x!}\\verb|c|\\phantom{\\verb!x!}\\verb|=| 2997924580</script></html>"
      ],
      "text/plain": [
       "'10 fois c = ' 2997924580"
      ]
     },
     "metadata": {},
     "output_type": "display_data"
    }
   ],
   "source": [
    "Gama=round(c*f);show(\"10 fois c = \",Gama)"
   ]
  },
  {
   "cell_type": "code",
   "execution_count": 30,
   "metadata": {},
   "outputs": [
    {
     "data": {
      "text/html": [
       "<html><script type=\"math/tex; mode=display\">\\newcommand{\\Bold}[1]{\\mathbf{#1}}1.01321183642338 \\times 10^{-17}</script></html>"
      ],
      "text/plain": [
       "1.01321183642338e-17"
      ]
     },
     "execution_count": 30,
     "metadata": {},
     "output_type": "execute_result"
    }
   ],
   "source": [
    "ir=u*s;ir"
   ]
  },
  {
   "cell_type": "markdown",
   "metadata": {},
   "source": [
    "L'impédance est l'inverse de l'indice de réfraction au carré"
   ]
  },
  {
   "cell_type": "code",
   "execution_count": 31,
   "metadata": {},
   "outputs": [
    {
     "data": {
      "text/html": [
       "<html><script type=\"math/tex; mode=display\">\\newcommand{\\Bold}[1]{\\mathbf{#1}}129600.000000000</script></html>"
      ],
      "text/plain": [
       "129600.000000000"
      ]
     },
     "execution_count": 31,
     "metadata": {},
     "output_type": "execute_result"
    }
   ],
   "source": [
    "ri=u/s;ri"
   ]
  },
  {
   "cell_type": "code",
   "execution_count": null,
   "metadata": {},
   "outputs": [],
   "source": []
  }
 ],
 "metadata": {
  "kernelspec": {
   "display_name": "SageMath 8.4",
   "language": "",
   "name": "sagemath"
  },
  "language_info": {
   "codemirror_mode": {
    "name": "ipython",
    "version": 2
   },
   "file_extension": ".py",
   "mimetype": "text/x-python",
   "name": "python",
   "nbconvert_exporter": "python",
   "pygments_lexer": "ipython2",
   "version": "2.7.15"
  }
 },
 "nbformat": 4,
 "nbformat_minor": 2
}
