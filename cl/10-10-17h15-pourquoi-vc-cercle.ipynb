{
 "cells": [
  {
   "cell_type": "code",
   "execution_count": 1,
   "metadata": {},
   "outputs": [],
   "source": [
    "%display latex"
   ]
  },
  {
   "cell_type": "markdown",
   "metadata": {},
   "source": [
    "###### Analyse de la lumière"
   ]
  },
  {
   "cell_type": "markdown",
   "metadata": {},
   "source": [
    "Dans l'espace la lumière blanche est l'inverse de la lumière noire. Le rapport entre les deux, l'éther est une impédance, une résistance au changement.\n",
    "\n",
    "Ether = 360° = 360 ohms.\n",
    "\n",
    "L'analogue scientifique est le vide : 120 $\\pi$ $\\approx$ 376... Ohms\n",
    "\n",
    "Pourquoi la vitesse angulaire est-elle devenue la $célérité$ $c$ vitesse de la lumière, aujourd'hui rectifiée en vitesse du photon. La lumière n'est elle que l'absence de noir ou au contraire une triade : blanche noire transparente ?"
   ]
  },
  {
   "cell_type": "code",
   "execution_count": 2,
   "metadata": {},
   "outputs": [
    {
     "data": {
      "text/html": [
       "<html><script type=\"math/tex; mode=display\">\\newcommand{\\Bold}[1]{\\mathbf{#1}}\\verb|permeability|\\phantom{\\verb!x!}\\verb|=| 1.14591559026165 \\times 10^{-6}</script></html>"
      ],
      "text/plain": [
       "'permeability =' 1.14591559026165e-6"
      ]
     },
     "metadata": {},
     "output_type": "display_data"
    },
    {
     "data": {
      "text/html": [
       "<html><script type=\"math/tex; mode=display\">\\newcommand{\\Bold}[1]{\\mathbf{#1}}\\verb|permittivity|\\phantom{\\verb!x!}\\verb|=| 8.84194128288307 \\times 10^{-12}</script></html>"
      ],
      "text/plain": [
       "'permittivity =' 8.84194128288307e-12"
      ]
     },
     "metadata": {},
     "output_type": "display_data"
    }
   ],
   "source": [
    "u=1/n(pi)*360E-8;show(\"permeability =\",u)\n",
    "s=1/(n(pi)*360E+8);show(\"permittivity =\",s)"
   ]
  },
  {
   "cell_type": "markdown",
   "metadata": {},
   "source": [
    "###### 11-10-9h37\n",
    "\n",
    "La lumière se déplace en cercle, selon $\\pi$, parce-qu'il y a 2 cellules ($2 \\pi $), au sein du milieu.\n",
    "\n",
    "Le centre égale zéro = 0, tant que le vide n'atteind pas zéro, ce n'est pas le vide parfait. L'éther est l'impédance du vide, c'est une résistance au déplacement des cellules qui composent la lumière."
   ]
  },
  {
   "cell_type": "code",
   "execution_count": 3,
   "metadata": {},
   "outputs": [
    {
     "data": {
      "image/png": "[encoded data removed]",
      "text/plain": [
       "Graphics object consisting of 9 graphics primitives"
      ]
     },
     "metadata": {},
     "output_type": "display_data"
    }
   ],
   "source": [
    "a=plot((1-x^2),x,-1,1,color=\"gold\",fill=\"min\",fillcolor=\"yellow\")\n",
    "a1=plot((1-x^2),x,-1,1,color=\"gold\",fill=\"max\",fillcolor=\"green\")\n",
    "b=plot((-1+x^2),x,-1,1,color=\"cyan\",fill=\"min\",fillcolor=\"salmon\")\n",
    "b1=plot((-1+x^2),x,-1,1,color=\"cyan\",fill=\"max\",fillcolor=\"blue\")\n",
    "c=circle((0,0),1,color=\"white\")\n",
    "show(a+b+b1+c+a1,figsize=3,fontsize=8,frame=True,aspect_ratio=1)"
   ]
  },
  {
   "cell_type": "code",
   "execution_count": 4,
   "metadata": {},
   "outputs": [
    {
     "data": {
      "text/html": [
       "<html><script type=\"math/tex; mode=display\">\\newcommand{\\Bold}[1]{\\mathbf{#1}}4</script></html>"
      ],
      "text/plain": [
       "4"
      ]
     },
     "execution_count": 4,
     "metadata": {},
     "output_type": "execute_result"
    }
   ],
   "source": []
  },
  {
   "cell_type": "markdown",
   "metadata": {},
   "source": []
  }
 ],
 "metadata": {
  "kernelspec": {
   "display_name": "SageMath 8.5",
   "language": "",
   "name": "sagemath"
  },
  "language_info": {
   "codemirror_mode": {
    "name": "ipython",
    "version": 2
   },
   "file_extension": ".py",
   "mimetype": "text/x-python",
   "name": "python",
   "nbconvert_exporter": "python",
   "pygments_lexer": "ipython2",
   "version": "2.7.15"
  }
 },
 "nbformat": 4,
 "nbformat_minor": 2
}
