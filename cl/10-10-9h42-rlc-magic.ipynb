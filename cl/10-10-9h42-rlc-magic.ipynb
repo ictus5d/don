{
 "cells": [
  {
   "cell_type": "code",
   "execution_count": 6,
   "metadata": {},
   "outputs": [
    {
     "data": {
      "text/html": [
       "<html><script type=\"math/tex; mode=display\">\\newcommand{\\Bold}[1]{\\mathbf{#1}}L \\frac{\\partial^{2}}{(\\partial t)^{2}}q\\left(t\\right) + \\frac{q\\left(t\\right)}{C} = 0</script></html>"
      ],
      "text/plain": [
       "L*diff(q(t), t, t) + q(t)/C == 0"
      ]
     },
     "execution_count": 6,
     "metadata": {},
     "output_type": "execute_result"
    }
   ],
   "source": [
    "from prettytable import PrettyTable\n",
    "from tabulate import tabulate\n",
    "%display latex\n",
    "t = var('t');var('L, C, t0, q0, I0')\n",
    "q = function('q')(t)\n",
    "assume(L>0);assume(C>0);assume(t>0)\n",
    "LC = L*diff(q,t,2)+q/C == 0;LC"
   ]
  },
  {
   "cell_type": "code",
   "execution_count": 2,
   "metadata": {},
   "outputs": [
    {
     "data": {
      "text/html": [
       "<html><script type=\"math/tex; mode=display\">\\newcommand{\\Bold}[1]{\\mathbf{#1}}K_{2} \\cos\\left(\\frac{t}{\\sqrt{C} \\sqrt{L}}\\right) + K_{1} \\sin\\left(\\frac{t}{\\sqrt{C} \\sqrt{L}}\\right)</script></html>"
      ],
      "text/plain": [
       "_K2*cos(t/(sqrt(C)*sqrt(L))) + _K1*sin(t/(sqrt(C)*sqrt(L)))"
      ]
     },
     "execution_count": 2,
     "metadata": {},
     "output_type": "execute_result"
    }
   ],
   "source": [
    "q_LCo = desolve(LC, q, ivar=t);q_LCo"
   ]
  },
  {
   "cell_type": "code",
   "execution_count": 3,
   "metadata": {},
   "outputs": [],
   "source": [
    "q_LC = desolve(LC, q, ivar=t,ics=[t0,q0,I0])\n",
    "I=diff(q_LC, t, 1)"
   ]
  },
  {
   "cell_type": "code",
   "execution_count": 4,
   "metadata": {},
   "outputs": [
    {
     "data": {
      "image/png": "[encoded data removed]",
      "text/plain": [
       "Graphics object consisting of 2 graphics primitives"
      ]
     },
     "metadata": {},
     "output_type": "display_data"
    }
   ],
   "source": [
    "plotq_LC=q_LC.substitute(\n",
    "    t0=0, q0=1, I0=0, L=12e-2, C=1.5e-4)\n",
    "qlc=plot(plotq_LC, (0, 0.05),color=\"red\")\n",
    "plot_I=I.substitute(\n",
    "    t0=0, q0=0.01, I0=0, L=12e-1, C=1.5e-5);\n",
    "ilc=plot(plot_I, (0, 0.05), color='blue')\n",
    "show(qlc+ilc,figsize=3,fontsize=6,\n",
    "     frame=True)"
   ]
  },
  {
   "cell_type": "code",
   "execution_count": 8,
   "metadata": {},
   "outputs": [
    {
     "name": "stdout",
     "output_type": "stream",
     "text": [
      "╒═══╤═══╤═══╕\n",
      "│ 8 │ 1 │ 6 │\n",
      "├───┼───┼───┤\n",
      "│ 3 │ 5 │ 7 │\n",
      "├───┼───┼───┤\n",
      "│ 4 │ 9 │ 2 │\n",
      "╘═══╧═══╧═══╛\n"
     ]
    }
   ],
   "source": [
    "from tabulate import tabulate\n",
    "tb=[[8,1,6],[3,5,7],[4,9,2]]\n",
    "print tabulate(tb,tablefmt=\"fancy_grid\")\n",
    "\n"
   ]
  },
  {
   "cell_type": "code",
   "execution_count": null,
   "metadata": {},
   "outputs": [],
   "source": []
  },
  {
   "cell_type": "code",
   "execution_count": null,
   "metadata": {},
   "outputs": [],
   "source": []
  },
  {
   "cell_type": "markdown",
   "metadata": {},
   "source": []
  }
 ],
 "metadata": {
  "kernelspec": {
   "display_name": "SageMath 8.5",
   "language": "",
   "name": "sagemath"
  },
  "language_info": {
   "codemirror_mode": {
    "name": "ipython",
    "version": 2
   },
   "file_extension": ".py",
   "mimetype": "text/x-python",
   "name": "python",
   "nbconvert_exporter": "python",
   "pygments_lexer": "ipython2",
   "version": "2.7.15"
  }
 },
 "nbformat": 4,
 "nbformat_minor": 2
}
